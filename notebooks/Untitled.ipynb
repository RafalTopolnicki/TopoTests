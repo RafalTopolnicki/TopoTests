{
 "cells": [
  {
   "cell_type": "code",
   "execution_count": 4,
   "id": "ae75b49b-bd24-49bf-b200-2d3800ef2685",
   "metadata": {},
   "outputs": [],
   "source": [
    "import numpy as np\n",
    "import sys\n",
    "import scipy.stats as st\n",
    "sys.path.append(os.path.abspath('/home/rafal/WORK/IMPAN/Distributions/topotests/topotests'))\n",
    "from topotests import TopoTest\n",
    "from distributions import MultivariateDistribution\n",
    "\n",
    "rv_norm_1d = MultivariateDistribution([st.norm()])\n",
    "rv_norm_2d = MultivariateDistribution([st.norm(), st.norm()])\n",
    "\n",
    "tt = TopoTest(n=100, dim=2)\n",
    "tt.fit(rv=rv_norm_2d, n_signature=10, n_test=10)\n",
    "\n",
    "X = [rv_norm_2d.rvs(100) for i in range(10)]\n",
    "out = tt.predict(X)"
   ]
  }
 ],
 "metadata": {
  "kernelspec": {
   "display_name": "Python 3",
   "language": "python",
   "name": "python3"
  },
  "language_info": {
   "codemirror_mode": {
    "name": "ipython",
    "version": 3
   },
   "file_extension": ".py",
   "mimetype": "text/x-python",
   "name": "python",
   "nbconvert_exporter": "python",
   "pygments_lexer": "ipython3",
   "version": "3.8.10"
  }
 },
 "nbformat": 4,
 "nbformat_minor": 5
}
