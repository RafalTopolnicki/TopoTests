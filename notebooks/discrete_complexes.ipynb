{
 "cells": [
  {
   "cell_type": "code",
   "execution_count": 1,
   "id": "19cb8def-63d9-425f-8824-31af89c34c1a",
   "metadata": {},
   "outputs": [],
   "source": [
    "import numpy as np\n",
    "import pandas as pd\n",
    "import matplotlib.pyplot as plt\n",
    "import gudhi as gd\n",
    "import sys\n",
    "sys.path.append('../topotests/')\n",
    "from scipy.stats import multivariate_normal"
   ]
  },
  {
   "cell_type": "code",
   "execution_count": 2,
   "id": "a581412d-31cf-401b-8809-e4ef2f82bb9f",
   "metadata": {},
   "outputs": [],
   "source": [
    "from distributions import *"
   ]
  },
  {
   "cell_type": "code",
   "execution_count": 3,
   "id": "921f00ce-7bc7-4908-9896-1c4da7c8599e",
   "metadata": {},
   "outputs": [],
   "source": [
    "rv = MultivariateDistributionJitter([st.poisson(1)], label=\"Poisson(1)\")"
   ]
  },
  {
   "cell_type": "code",
   "execution_count": 14,
   "id": "b3363a50-00e7-4aa2-bb38-7f9730c4f337",
   "metadata": {},
   "outputs": [],
   "source": [
    "rv = MultivariateDistribution([st.poisson(1)], label=\"Poisson(1)\")\n",
    "X = rv.rvs(100)\n",
    "alpha = gd.AlphaComplex(points = X)\n",
    "alpha_tree = alpha.create_simplex_tree()"
   ]
  },
  {
   "cell_type": "code",
   "execution_count": 49,
   "id": "5e320848-332f-4309-bcb6-957a02ebd30a",
   "metadata": {},
   "outputs": [],
   "source": [
    "rips = gd.RipsComplex(points = X)\n",
    "rips_tree = rips.create_simplex_tree()\n",
    "#rips_filtr = rips_tree.get_filtration()"
   ]
  },
  {
   "cell_type": "code",
   "execution_count": 53,
   "id": "66115e5a-7391-44c2-a00c-571baa5b93f2",
   "metadata": {},
   "outputs": [],
   "source": [
    "ecc = {}\n",
    "for s, f in rips_tree.get_filtration():\n",
    "    dim = len(s)-1\n",
    "    ecc[f] = ecc.get(f, 0) + (-1)**dim"
   ]
  },
  {
   "cell_type": "code",
   "execution_count": 7,
   "id": "5ef201da-7189-4448-a040-1135b91ac4f2",
   "metadata": {},
   "outputs": [],
   "source": [
    "def compute_ECC(point_cloud, complex_type='alpha'):\n",
    "\n",
    "    if complex_type == 'alpha':\n",
    "        comp = gd.AlphaComplex(points=point_cloud)\n",
    "    else:\n",
    "        comp = gd.RipsComplex(points=point_cloud)\n",
    "\n",
    "    simplex_tree = comp.create_simplex_tree()\n",
    "\n",
    "    ecc = {}\n",
    "\n",
    "    for s, f in simplex_tree.get_filtration():\n",
    "        dim = len(s) - 1\n",
    "        ecc[f] = ecc.get(f, 0) + (-1) ** dim\n",
    "\n",
    "    # remove the contributions that are 0\n",
    "    to_del = []\n",
    "    for key in ecc:\n",
    "        if ecc[key] == 0:\n",
    "            to_del.append(key)\n",
    "    for key in to_del:\n",
    "        del ecc[key]\n",
    "\n",
    "    ecc_sort = np.array(sorted(list(ecc.items()), key=lambda x: x[0]))\n",
    "    ecc_sort[:, 1] = np.cumsum(ecc_sort[:, 1])\n",
    "    return ecc_sort"
   ]
  },
  {
   "cell_type": "code",
   "execution_count": 28,
   "id": "3012d88b-df1f-48c0-8ca9-bdd73b2c3e8e",
   "metadata": {},
   "outputs": [],
   "source": [
    "y = compute_ECC(X, complex_type='rips')"
   ]
  }
 ],
 "metadata": {
  "kernelspec": {
   "display_name": "Python 3 (ipykernel)",
   "language": "python",
   "name": "python3"
  },
  "language_info": {
   "codemirror_mode": {
    "name": "ipython",
    "version": 3
   },
   "file_extension": ".py",
   "mimetype": "text/x-python",
   "name": "python",
   "nbconvert_exporter": "python",
   "pygments_lexer": "ipython3",
   "version": "3.8.10"
  }
 },
 "nbformat": 4,
 "nbformat_minor": 5
}
