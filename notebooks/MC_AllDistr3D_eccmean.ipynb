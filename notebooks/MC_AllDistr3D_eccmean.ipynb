{
 "cells": [
  {
   "cell_type": "code",
   "execution_count": 1,
   "id": "e5ff7211-4c0e-4f43-8361-1493ab65351e",
   "metadata": {},
   "outputs": [],
   "source": [
    "import numpy as np\n",
    "import sys\n",
    "import scipy.stats as st\n",
    "import matplotlib.pyplot as plt\n",
    "from pathlib import Path\n",
    "# setting path\n",
    "sys.path.append('../topotests/')\n",
    "sys.path.append('../multiKS/')\n",
    "from topotests import TopoTest\n",
    "from distributions import MultivariateDistribution, GaussianMixture, AbsoluteDistribution\n",
    "from multiKS import multiKS\n",
    "import pandas as pd\n",
    "from concurrent.futures import ProcessPoolExecutor\n",
    "from functools import partial\n",
    "import datetime\n",
    "import sys, getopt"
   ]
  },
  {
   "cell_type": "code",
   "execution_count": 2,
   "id": "c1092c67-2055-4648-a9aa-83eee7ed2a2f",
   "metadata": {},
   "outputs": [],
   "source": [
    "# split list l into m chunks\n",
    "# if len(l) is not devisibale by m chunks will have different length\n",
    "def chunks(l, m):\n",
    "    chunks = np.array_split(l, m)\n",
    "    chunks = [chunk for chunk in chunks]\n",
    "    return chunks"
   ]
  },
  {
   "cell_type": "code",
   "execution_count": 3,
   "id": "ad233911-f874-4aad-ba4d-3c6fa5efc911",
   "metadata": {},
   "outputs": [],
   "source": [
    "# run KS it in parallell\n",
    "def gof_test_process(subsamples):\n",
    "    ks = []\n",
    "    for sample in subsamples:\n",
    "        ks_out = multiKS(sample, cdf_global)\n",
    "        ks.append(ks_out)\n",
    "    return ks\n",
    "\n",
    "def gof_test(samples, Dstar):\n",
    "    n_cores = 4 \n",
    "    samples_chunks = chunks(samples, n_cores)\n",
    "    with ProcessPoolExecutor() as executor:\n",
    "        results_gen = executor.map(gof_test_process, samples_chunks)\n",
    "    results = list(results_gen)   \n",
    "    results_flat = [item for sublist in results for item in sublist]\n",
    "    ks = [d < Dstar for d in results_flat]\n",
    "    ks = np.sum(ks)/len(ks)\n",
    "    return ks, results_flat"
   ]
  },
  {
   "cell_type": "code",
   "execution_count": 1,
   "id": "d1a512df-191d-4511-a536-9ab3c8e3ae3d",
   "metadata": {},
   "outputs": [],
   "source": [
    "def run_mc(N, rvs, Dstar):\n",
    "    global cdf_global\n",
    "    # generate representation for standard normal distribution\n",
    "    topo_test = TopoTest(n=N, dim=dim, method=method, \n",
    "                         wasserstein_p=wasserstein_p, wasserstein_order=wasserstein_order)\n",
    "    \n",
    "    results = []\n",
    "    result_labels = ['true_distrib', 'alter_distrib', 'method', 'sign_level', 'wasserstein_p', 'wasserstein_order',\n",
    "                 'mc_loops', 'n_signature', 'n_test', \n",
    "                 'topo_min', 'topo_mean', 'topo_max', 'topo_quantile',\n",
    "                 'ks', 'ks_d']\n",
    "    \n",
    "    for rv_true in rvs:\n",
    "        print(f'*** {datetime.datetime.now()} N={N} RV={rv_true.label}')\n",
    "        topo_test.fit(rv=rv_true, n_signature=n_signature, n_test=n_test)\n",
    "        # write signature distance matrix\n",
    "        topo_test.save_distance_matrix(outputfile_basename+f'_N={N}_{rv_true.label}_signature_distance_matrix.npy')\n",
    "        for rv_alter in rvs:\n",
    "            print(f'*** {datetime.datetime.now()} N={N} RV={rv_true.label} {rv_alter.label}')\n",
    "            # generate samples\n",
    "            samples = [rv_alter.rvs(N) for i in range(mc_samples)]\n",
    "            # perform topo tests\n",
    "            topo_out = topo_test.predict(samples)\n",
    "            # write representation distance matrix\n",
    "            topo_test.save_predict_distance_matrix(outputfile_basename+f'_N={N}_{rv_true.label}-{rv_alter.label}_distance_matrix.npy')\n",
    "            # aggregate results of topo tests\n",
    "            topo_min = np.mean(topo_out.min)\n",
    "            topo_mean = np.mean(topo_out.mean)\n",
    "            topo_max = np.mean(topo_out.max)\n",
    "            topo_quantile = np.mean(topo_out.quantile)\n",
    "            # collect results of KS test\n",
    "            cdf_global = rv_true.cdf\n",
    "            #ks, dvalues = gof_test(samples, Dstar=Dstar) #Dstar valid for alpha=0.05 N=100, see Justel Table 1 \n",
    "            ks, dvalues = [0]*mc_samples, [0]*mc_samples\n",
    "            #ks, dvalues = [], []\n",
    "            # collect results of topo tests and goodness of fit (gof) tests\n",
    "            result = [rv_true.label, rv_alter.label, method, significance_level, wasserstein_p, wasserstein_order, \n",
    "                      mc_samples, n_signature, n_test, \n",
    "                      topo_min, topo_mean, topo_max, topo_quantile,\n",
    "                      ks, dvalues]\n",
    "            results.append(result)\n",
    "            # save results to .csv file\n",
    "            results_df = pd.DataFrame(results, columns=result_labels)\n",
    "            results_df.to_csv(f'{outputfile_basename}_N={N}.csv')\n",
    "    return results"
   ]
  },
  {
   "cell_type": "code",
   "execution_count": 2,
   "id": "e573aed6-e42e-4e8e-aab6-010a02d59fc8",
   "metadata": {},
   "outputs": [],
   "source": [
    "rvs = [MultivariateDistribution([st.norm(), st.norm(), st.norm()], label='N01xN01xN01'),\n",
    "       MultivariateDistribution([st.t(df=3), st.t(df=3), st.t(df=3)], label='T3xT3xT3'),\n",
    "       MultivariateDistribution([st.t(df=5), st.t(df=5), st.t(df=5)], label='T5xT5xT5'),\n",
    "       MultivariateDistribution([st.t(df=10), st.t(df=10), st.t(df=10)], label='T10xT10xT10'),\n",
    "       MultivariateDistribution([st.logistic(), st.logistic(), st.logistic()], label='LogisticxLogisticxLogistic'),\n",
    "       MultivariateDistribution([st.laplace(), st.laplace(), st.laplace()], label='LaplacexLaplacexLaplace'),\n",
    "       MultivariateDistribution([st.norm(), st.t(df=5), st.t(df=5)], label='N01xT5xT5'),\n",
    "       MultivariateDistribution([st.norm(), st.norm(), st.t(df=5)], label='N01xN01xT5'),\n",
    "       MultivariateDistribution([GaussianMixture([-1, 1, 0], [1, 1, 1], [0.33, 0.33, 0.34]),\n",
    "                                GaussianMixture([-1, 1, 0], [1, 1, 1], [0.33, 0.33, 0.34]),\n",
    "                                GaussianMixture([-1, 1, 0], [1, 1, 2], [0.33, 0.33, 0.34])], label='GM1')\n",
    "                                ]"
   ]
  },
  {
   "cell_type": "code",
   "execution_count": null,
   "id": "72e39451-a6de-453d-9d96-2a649ed32cfb",
   "metadata": {},
   "outputs": [],
   "source": [
    "argv = sys.argv[1:]\n",
    "method = None\n",
    "try:\n",
    "    opts, args = getopt.getopt(argv,\"m:\")\n",
    "except getopt.GetoptError:\n",
    "    print('MC_AllDistr3D.py -m <method>')\n",
    "    sys.exit(2)\n",
    "for opt, arg in opts:\n",
    "    if opt in ('-m'):\n",
    "        method = arg\n",
    "\n",
    "if method == None:\n",
    "    raise ValueError('-m parameter missing')"
   ]
  },
  {
   "cell_type": "code",
   "execution_count": 2,
   "id": "65c8ebc8-6a2f-47b1-962e-f3eb6cc358ed",
   "metadata": {},
   "outputs": [
    {
     "ename": "NameError",
     "evalue": "name 'method' is not defined",
     "output_type": "error",
     "traceback": [
      "\u001b[0;31m---------------------------------------------------------------------------\u001b[0m",
      "\u001b[0;31mNameError\u001b[0m                                 Traceback (most recent call last)",
      "Input \u001b[0;32mIn [2]\u001b[0m, in \u001b[0;36m<module>\u001b[0;34m\u001b[0m\n\u001b[1;32m     19\u001b[0m wasserstein_p\u001b[38;5;241m=\u001b[39m\u001b[38;5;241m1\u001b[39m\n\u001b[1;32m     20\u001b[0m wasserstein_order\u001b[38;5;241m=\u001b[39m\u001b[38;5;241m1\u001b[39m\n\u001b[0;32m---> 22\u001b[0m outputfile_basename \u001b[38;5;241m=\u001b[39m \u001b[38;5;124mf\u001b[39m\u001b[38;5;124m'\u001b[39m\u001b[38;5;124mresults.\u001b[39m\u001b[38;5;132;01m{\u001b[39;00mdim\u001b[38;5;132;01m}\u001b[39;00m\u001b[38;5;124md/\u001b[39m\u001b[38;5;132;01m{\u001b[39;00mmethod\u001b[38;5;132;01m}\u001b[39;00m\u001b[38;5;124m_\u001b[39m\u001b[38;5;132;01m{\u001b[39;00mwasserstein_p\u001b[38;5;132;01m}\u001b[39;00m\u001b[38;5;124m_\u001b[39m\u001b[38;5;132;01m{\u001b[39;00mwasserstein_order\u001b[38;5;132;01m}\u001b[39;00m\u001b[38;5;124m'\u001b[39m\n",
      "\u001b[0;31mNameError\u001b[0m: name 'method' is not defined"
     ]
    }
   ],
   "source": [
    "# set random numbers generator seed to have reproducibale results\n",
    "np.random.seed(1)\n",
    "\n",
    "cdf_global = None\n",
    "\n",
    "# set simulation parameters\n",
    "Ns = [20, 50, 100, 200]\n",
    "Dstars = [0.151494, 0.110596, 0.086214, 0.064754] # values obtained from separate KS simulations\n",
    "mc_samples = 250\n",
    "n_signature = n_test = 750\n",
    "\n",
    "# Ns = [20]\n",
    "# Dstars = [0.151494]\n",
    "# mc_samples = 10\n",
    "# n_signature = n_test = 25\n",
    "\n",
    "dim = 3\n",
    "significance_level = 0.05\n",
    "wasserstein_p=1\n",
    "wasserstein_order=1\n",
    "\n",
    "outputfile_basename = f'results.{dim}d/{method}_{wasserstein_p}_{wasserstein_order}'"
   ]
  },
  {
   "cell_type": "code",
   "execution_count": null,
   "id": "1963f33a-763a-4d3a-9636-b4d3c8d7ecf4",
   "metadata": {},
   "outputs": [
    {
     "name": "stdout",
     "output_type": "stream",
     "text": [
      "*** 2022-03-02 16:01:38.064526 N=20 RV=N01xN01xN01\n",
      "*** 2022-03-02 16:01:38.108827 N=20 RV=N01xN01xN01 N01xN01xN01\n",
      "*** 2022-03-02 16:01:40.414550 N=20 RV=N01xN01xN01 N01xT5xT5\n",
      "*** 2022-03-02 16:01:42.567792 N=20 RV=N01xN01xN01 N01xN01xT5\n",
      "*** 2022-03-02 16:01:44.770408 N=20 RV=N01xN01xN01 GM1\n",
      "*** 2022-03-02 16:01:47.061799 N=20 RV=N01xT5xT5\n",
      "*** 2022-03-02 16:01:47.099559 N=20 RV=N01xT5xT5 N01xN01xN01\n",
      "*** 2022-03-02 16:01:49.315059 N=20 RV=N01xT5xT5 N01xT5xT5\n",
      "*** 2022-03-02 16:01:51.870561 N=20 RV=N01xT5xT5 N01xN01xT5\n",
      "*** 2022-03-02 16:01:54.288880 N=20 RV=N01xT5xT5 GM1\n",
      "*** 2022-03-02 16:01:56.582353 N=20 RV=N01xN01xT5\n",
      "*** 2022-03-02 16:01:56.620702 N=20 RV=N01xN01xT5 N01xN01xN01\n",
      "*** 2022-03-02 16:01:58.677610 N=20 RV=N01xN01xT5 N01xT5xT5\n",
      "*** 2022-03-02 16:02:01.448466 N=20 RV=N01xN01xT5 N01xN01xT5\n",
      "*** 2022-03-02 16:02:04.408965 N=20 RV=N01xN01xT5 GM1\n",
      "*** 2022-03-02 16:02:07.244879 N=20 RV=GM1\n",
      "*** 2022-03-02 16:02:07.391596 N=20 RV=GM1 N01xN01xN01\n",
      "*** 2022-03-02 16:02:13.944431 N=20 RV=GM1 N01xT5xT5\n",
      "*** 2022-03-02 16:02:20.481078 N=20 RV=GM1 N01xN01xT5\n",
      "*** 2022-03-02 16:02:26.653011 N=20 RV=GM1 GM1\n",
      "*** 2022-03-02 16:02:32.683209 N=50 RV=N01xN01xN01\n",
      "*** 2022-03-02 16:02:32.776928 N=50 RV=N01xN01xN01 N01xN01xN01\n",
      "*** 2022-03-02 16:02:38.346144 N=50 RV=N01xN01xN01 N01xT5xT5\n",
      "*** 2022-03-02 16:02:44.631358 N=50 RV=N01xN01xN01 N01xN01xT5\n",
      "*** 2022-03-02 16:02:50.199407 N=50 RV=N01xN01xN01 GM1\n",
      "*** 2022-03-02 16:02:55.770441 N=50 RV=N01xT5xT5\n",
      "*** 2022-03-02 16:02:55.907128 N=50 RV=N01xT5xT5 N01xN01xN01\n",
      "*** 2022-03-02 16:03:01.221247 N=50 RV=N01xT5xT5 N01xT5xT5\n",
      "*** 2022-03-02 16:03:06.663751 N=50 RV=N01xT5xT5 N01xN01xT5\n",
      "*** 2022-03-02 16:03:12.261107 N=50 RV=N01xT5xT5 GM1\n",
      "*** 2022-03-02 16:03:17.472652 N=50 RV=N01xN01xT5\n",
      "*** 2022-03-02 16:03:17.578762 N=50 RV=N01xN01xT5 N01xN01xN01\n",
      "*** 2022-03-02 16:03:22.912503 N=50 RV=N01xN01xT5 N01xT5xT5\n",
      "*** 2022-03-02 16:03:29.834916 N=50 RV=N01xN01xT5 N01xN01xT5\n",
      "*** 2022-03-02 16:03:36.227200 N=50 RV=N01xN01xT5 GM1\n",
      "*** 2022-03-02 16:03:42.985707 N=50 RV=GM1\n",
      "*** 2022-03-02 16:03:43.305427 N=50 RV=GM1 N01xN01xN01\n",
      "*** 2022-03-02 16:04:00.738727 N=50 RV=GM1 N01xT5xT5\n",
      "*** 2022-03-02 16:04:18.819855 N=50 RV=GM1 N01xN01xT5\n"
     ]
    }
   ],
   "source": [
    "for N, Dstar in zip(Ns, Dstars):\n",
    "    results = run_mc(N=N, rvs=rvs, Dstar=Dstar)"
   ]
  }
 ],
 "metadata": {
  "environment": {
   "kernel": "python3",
   "name": "common-cpu.m87",
   "type": "gcloud",
   "uri": "gcr.io/deeplearning-platform-release/base-cpu:m87"
  },
  "kernelspec": {
   "display_name": "Python 3 (ipykernel)",
   "language": "python",
   "name": "python3"
  },
  "language_info": {
   "codemirror_mode": {
    "name": "ipython",
    "version": 3
   },
   "file_extension": ".py",
   "mimetype": "text/x-python",
   "name": "python",
   "nbconvert_exporter": "python",
   "pygments_lexer": "ipython3",
   "version": "3.8.10"
  }
 },
 "nbformat": 4,
 "nbformat_minor": 5
}
