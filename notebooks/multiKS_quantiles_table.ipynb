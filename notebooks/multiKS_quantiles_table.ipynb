{
 "cells": [
  {
   "cell_type": "code",
   "execution_count": 1,
   "id": "ac4a3055-0fb9-4380-95cf-e7186858e7b5",
   "metadata": {},
   "outputs": [],
   "source": [
    "import numpy as np\n",
    "import pandas as pd\n",
    "import pickle"
   ]
  },
  {
   "cell_type": "code",
   "execution_count": 2,
   "id": "01f81f45-f1a1-4bb7-a607-1f887da8f414",
   "metadata": {},
   "outputs": [],
   "source": [
    "filename = 'KS_results_dim=3.pickle'\n",
    "with open(filename, 'rb') as handle:\n",
    "    data = pickle.load(handle)"
   ]
  },
  {
   "cell_type": "code",
   "execution_count": 3,
   "id": "b2f5feee-c2fe-4f7c-956c-1ee4cb74da1a",
   "metadata": {},
   "outputs": [],
   "source": [
    "def get_quantiles(dat, qs):\n",
    "    out = []\n",
    "    for q in qs:\n",
    "        out.append(np.quantile(dat, q))\n",
    "    return out"
   ]
  },
  {
   "cell_type": "code",
   "execution_count": 4,
   "id": "679f132d-9e99-435a-951e-57de8001bb12",
   "metadata": {},
   "outputs": [],
   "source": [
    "data_q = {}\n",
    "qs=[0.25, 0.2, 0.1, 0.05, 0.025]\n",
    "for key in data.keys():\n",
    "    data_q[key] = get_quantiles(data[key], qs)"
   ]
  },
  {
   "cell_type": "code",
   "execution_count": 5,
   "id": "abbf64e9-cb8d-4553-822f-00f7ce1b9eee",
   "metadata": {},
   "outputs": [
    {
     "data": {
      "text/html": [
       "<div>\n",
       "<style scoped>\n",
       "    .dataframe tbody tr th:only-of-type {\n",
       "        vertical-align: middle;\n",
       "    }\n",
       "\n",
       "    .dataframe tbody tr th {\n",
       "        vertical-align: top;\n",
       "    }\n",
       "\n",
       "    .dataframe thead th {\n",
       "        text-align: right;\n",
       "    }\n",
       "</style>\n",
       "<table border=\"1\" class=\"dataframe\">\n",
       "  <thead>\n",
       "    <tr style=\"text-align: right;\">\n",
       "      <th></th>\n",
       "      <th>0.250</th>\n",
       "      <th>0.200</th>\n",
       "      <th>0.100</th>\n",
       "      <th>0.050</th>\n",
       "      <th>0.025</th>\n",
       "    </tr>\n",
       "  </thead>\n",
       "  <tbody>\n",
       "    <tr>\n",
       "      <th>10</th>\n",
       "      <td>1.502883</td>\n",
       "      <td>1.466460</td>\n",
       "      <td>1.387489</td>\n",
       "      <td>1.318244</td>\n",
       "      <td>1.260718</td>\n",
       "    </tr>\n",
       "    <tr>\n",
       "      <th>20</th>\n",
       "      <td>1.631492</td>\n",
       "      <td>1.607547</td>\n",
       "      <td>1.529077</td>\n",
       "      <td>1.465279</td>\n",
       "      <td>1.415743</td>\n",
       "    </tr>\n",
       "    <tr>\n",
       "      <th>30</th>\n",
       "      <td>1.691179</td>\n",
       "      <td>1.667190</td>\n",
       "      <td>1.606353</td>\n",
       "      <td>1.550206</td>\n",
       "      <td>1.507808</td>\n",
       "    </tr>\n",
       "    <tr>\n",
       "      <th>40</th>\n",
       "      <td>1.728381</td>\n",
       "      <td>1.707500</td>\n",
       "      <td>1.651730</td>\n",
       "      <td>1.601702</td>\n",
       "      <td>1.551379</td>\n",
       "    </tr>\n",
       "  </tbody>\n",
       "</table>\n",
       "</div>"
      ],
      "text/plain": [
       "       0.250     0.200     0.100     0.050     0.025\n",
       "10  1.502883  1.466460  1.387489  1.318244  1.260718\n",
       "20  1.631492  1.607547  1.529077  1.465279  1.415743\n",
       "30  1.691179  1.667190  1.606353  1.550206  1.507808\n",
       "40  1.728381  1.707500  1.651730  1.601702  1.551379"
      ]
     },
     "execution_count": 5,
     "metadata": {},
     "output_type": "execute_result"
    }
   ],
   "source": [
    "df = pd.DataFrame(data_q)\n",
    "df = df.transpose()\n",
    "df.columns = qs\n",
    "df"
   ]
  }
 ],
 "metadata": {
  "kernelspec": {
   "display_name": "Python 3 (ipykernel)",
   "language": "python",
   "name": "python3"
  },
  "language_info": {
   "codemirror_mode": {
    "name": "ipython",
    "version": 3
   },
   "file_extension": ".py",
   "mimetype": "text/x-python",
   "name": "python",
   "nbconvert_exporter": "python",
   "pygments_lexer": "ipython3",
   "version": "3.8.10"
  }
 },
 "nbformat": 4,
 "nbformat_minor": 5
}
