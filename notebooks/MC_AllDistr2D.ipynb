{
 "cells": [
  {
   "cell_type": "code",
   "execution_count": 1,
   "id": "e5ff7211-4c0e-4f43-8361-1493ab65351e",
   "metadata": {},
   "outputs": [],
   "source": [
    "import numpy as np\n",
    "import sys\n",
    "import scipy.stats as st\n",
    "import matplotlib.pyplot as plt\n",
    "from pathlib import Path\n",
    "# setting path\n",
    "sys.path.append('../topotests/')\n",
    "sys.path.append('../2DKS/')\n",
    "from topotests import TopoTest\n",
    "from distributions import MultivariateDistribution, GaussianMixture, AbsoluteDistribution\n",
    "from KS2D import ks2d1s\n",
    "import pandas as pd\n",
    "from concurrent.futures import ProcessPoolExecutor\n",
    "from functools import partial"
   ]
  },
  {
   "cell_type": "code",
   "execution_count": 2,
   "id": "c1092c67-2055-4648-a9aa-83eee7ed2a2f",
   "metadata": {},
   "outputs": [],
   "source": [
    "# split list l into m chunks\n",
    "# if len(l) is not devisibale by m chunks will have different length\n",
    "def chunks(l, m):\n",
    "    chunks = np.array_split(l, m)\n",
    "    chunks = [chunk for chunk in chunks]\n",
    "    return chunks"
   ]
  },
  {
   "cell_type": "code",
   "execution_count": 3,
   "id": "ad233911-f874-4aad-ba4d-3c6fa5efc911",
   "metadata": {},
   "outputs": [],
   "source": [
    "# 2D KS is super slow but takes only 1CPU\n",
    "# run it in parallell\n",
    "def gof_test_process(subsamples):\n",
    "    def pdf_wrapper(x,y):\n",
    "        return pdf_global((x,y))\n",
    "    ks = []\n",
    "    for sample in subsamples:\n",
    "        ks_out = ks2d1s(sample, pdf_wrapper)\n",
    "        ks.append(ks_out[0])\n",
    "    return ks\n",
    "\n",
    "def gof_test(samples, Dstar):\n",
    "    n_cores = 24    \n",
    "    samples_chunks = chunks(samples, n_cores)\n",
    "\n",
    "    with ProcessPoolExecutor() as executor:\n",
    "        results_gen = executor.map(gof_test_process, samples_chunks)\n",
    "    \n",
    "    results = list(results_gen)   \n",
    "    results_flat = [item for sublist in results for item in sublist]\n",
    "    ks = [d < Dstar for d in results_flat]\n",
    "    ks = np.sum(ks)/len(ks)\n",
    "    return ks, results_flat"
   ]
  },
  {
   "cell_type": "code",
   "execution_count": 4,
   "id": "d1a512df-191d-4511-a536-9ab3c8e3ae3d",
   "metadata": {},
   "outputs": [],
   "source": [
    "def run_mc(N, rvs):\n",
    "    global pdf_global\n",
    "    # generate representation for standard normal distribution\n",
    "    topo_test = TopoTest(n=N, dim=dim, method=method, \n",
    "                         wasserstein_p=wasserstein_p, wasserstein_order=wasserstein_order)\n",
    "    \n",
    "    results = []\n",
    "    result_labels = ['true_distrib', 'alter_distrib', 'method', 'sign_level', 'wasserstein_p', 'wasserstein_order',\n",
    "                 'mc_loops', 'n_signature', 'n_test', \n",
    "                 'topo_min', 'topo_mean', 'topo_max', 'topo_quantile',\n",
    "                 'ks', 'ks_d']\n",
    "    \n",
    "    for rv_true in rvs:\n",
    "        topo_test.fit(rv=rv_true, n_signature=n_signature, n_test=n_test)\n",
    "        # write signature distance matrix\n",
    "        topo_test.save_distance_matrix(outputfile_basename+f'_N={N}_{rv_true.label}_signature_distance_matrix.npy')\n",
    "        for rv_alter in rvs:\n",
    "            # generate samples\n",
    "            samples = [rv_alter.rvs(N) for i in range(mc_samples)]\n",
    "            # perform topo tests\n",
    "            topo_out = topo_test.predict(samples)\n",
    "            # write representation distance matrix\n",
    "            topo_test.save_predict_distance_matrix(outputfile_basename+f'_N={N}_{rv_true.label}-{rv_alter.label}_distance_matrix.npy')\n",
    "            # aggregate results of topo tests\n",
    "            topo_min = np.mean(topo_out.min)\n",
    "            topo_mean = np.mean(topo_out.mean)\n",
    "            topo_max = np.mean(topo_out.max)\n",
    "            topo_quantile = np.mean(topo_out.quantile)\n",
    "            # collect results of KS test\n",
    "            pdf_global = rv_true.pdf\n",
    "            ks, dvalues = gof_test(samples, Dstar=0.1675) #Dstar valid for alpha=0.05 N=100, see Justel Table 1 \n",
    "            # collect results of topo tests and goodness of fit (gof) tests\n",
    "            result = [rv_true.label, rv_alter.label, method, significance_level, wasserstein_p, wasserstein_order, \n",
    "                      mc_samples, n_signature, n_test, \n",
    "                      topo_min, topo_mean, topo_max, topo_quantile,\n",
    "                      ks, dvalues]\n",
    "            results.append(result)\n",
    "            # save results to .csv file\n",
    "            results_df = pd.DataFrame(results, columns=result_labels)\n",
    "            results_df.to_csv(f'{outputfile_basename}_N={N}.csv')\n",
    "    return results"
   ]
  },
  {
   "cell_type": "code",
   "execution_count": 5,
   "id": "e573aed6-e42e-4e8e-aab6-010a02d59fc8",
   "metadata": {},
   "outputs": [],
   "source": [
    "rvs = [MultivariateDistribution([st.norm(), st.norm()], label='N01xN01'),\n",
    "       MultivariateDistribution([st.t(df=3), st.t(df=3)], label='T3xT3'),\n",
    "       MultivariateDistribution([st.t(df=5), st.t(df=5)], label='T5xT5'),\n",
    "       MultivariateDistribution([st.t(df=10), st.t(df=10)], label='T10xT10'),\n",
    "       MultivariateDistribution([st.logistic(), st.logistic()], label='LogisticxLogistic'),\n",
    "       MultivariateDistribution([st.laplace(), st.laplace()], label='LaplacexLaplace'),\n",
    "       MultivariateDistribution([st.norm(), st.t(df=5)], label='N01xT5'),\n",
    "       MultivariateDistribution([GaussianMixture([-1, 1], [1, 1], [0.5, 0.5]),\n",
    "                                GaussianMixture([-1, 1], [1, 1], [0.5, 0.5])], label='GM_1xGM_1'),\n",
    "       MultivariateDistribution([st.norm(),\n",
    "                                GaussianMixture([-1, 1], [1, 1], [0.5, 0.5])], label='N01xGM_1')      \n",
    "      ]"
   ]
  },
  {
   "cell_type": "code",
   "execution_count": 6,
   "id": "65c8ebc8-6a2f-47b1-962e-f3eb6cc358ed",
   "metadata": {},
   "outputs": [],
   "source": [
    "# set random numbers generator seed to have reproducibale results\n",
    "np.random.seed(1)\n",
    "\n",
    "pdf_global = None\n",
    "\n",
    "# set simulation parameters\n",
    "Ns = [100]\n",
    "mc_samples = 120\n",
    "n_signature = n_test = 750\n",
    "method = 'mergegram'\n",
    "\n",
    "dim = 2\n",
    "significance_level = 0.05\n",
    "wasserstein_p=1\n",
    "wasserstein_order=1\n",
    "\n",
    "outputfile_basename = f'results.{dim}d/{method}_{wasserstein_p}_{wasserstein_order}'"
   ]
  },
  {
   "cell_type": "code",
   "execution_count": null,
   "id": "1963f33a-763a-4d3a-9636-b4d3c8d7ecf4",
   "metadata": {},
   "outputs": [],
   "source": [
    "for N in Ns:\n",
    "    results = run_mc(N=N, rvs=rvs)"
   ]
  }
 ],
 "metadata": {
  "kernelspec": {
   "display_name": "Python 3 (ipykernel)",
   "language": "python",
   "name": "python3"
  },
  "language_info": {
   "codemirror_mode": {
    "name": "ipython",
    "version": 3
   },
   "file_extension": ".py",
   "mimetype": "text/x-python",
   "name": "python",
   "nbconvert_exporter": "python",
   "pygments_lexer": "ipython3",
   "version": "3.8.10"
  }
 },
 "nbformat": 4,
 "nbformat_minor": 5
}
