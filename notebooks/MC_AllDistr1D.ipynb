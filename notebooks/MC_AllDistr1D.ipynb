{
 "cells": [
  {
   "cell_type": "code",
   "execution_count": 1,
   "id": "e5ff7211-4c0e-4f43-8361-1493ab65351e",
   "metadata": {},
   "outputs": [],
   "source": [
    "import numpy as np\n",
    "import sys\n",
    "import scipy.stats as st\n",
    "import matplotlib.pyplot as plt\n",
    "from pathlib import Path\n",
    "# setting path\n",
    "sys.path.append('../topotests/')\n",
    "from topotests import TopoTest\n",
    "from distributions import MultivariateDistribution, GaussianMixture, AbsoluteDistribution\n",
    "import pandas as pd"
   ]
  },
  {
   "cell_type": "code",
   "execution_count": 2,
   "id": "990e4b44-c580-4bb7-b8d1-4934c2ca358c",
   "metadata": {},
   "outputs": [],
   "source": [
    "def gof_tests(samples, cdf):\n",
    "    ks = [st.kstest(sample.reshape(-1, ), cdf).pvalue > significance_level for sample in samples]\n",
    "    cvm = [st.cramervonmises(sample.reshape(-1, ), cdf).pvalue > significance_level for sample in samples]\n",
    "    ks = np.sum(ks)/len(ks)\n",
    "    cvm = np.sum(cvm)/len(cvm)\n",
    "    return ks, cvm"
   ]
  },
  {
   "cell_type": "code",
   "execution_count": 3,
   "id": "d1a512df-191d-4511-a536-9ab3c8e3ae3d",
   "metadata": {},
   "outputs": [],
   "source": [
    "def run_mc(N, rvs):\n",
    "    # generate representation for standard normal distribution\n",
    "    topo_test = TopoTest(n=N, dim=dim, method=method, \n",
    "                         wasserstein_p=wasserstein_p, wasserstein_order=wasserstein_order)\n",
    "    \n",
    "    results = []\n",
    "    result_labels = ['true_distrib', 'alter_distrib', 'method', 'sign_level', 'wasserstein_p', 'wasserstein_order',\n",
    "                 'mc_loops', 'n_signature', 'n_test', \n",
    "                 'topo_min', 'topo_mean', 'topo_max', 'topo_quantile',\n",
    "                 'ks', 'cvm']\n",
    "    \n",
    "    for rv_true in rvs:\n",
    "        topo_test.fit(rv=rv_true, n_signature=n_signature, n_test=n_test)\n",
    "        # write distance matrix\n",
    "        topo_test.save_distance_matrix(outputfile_basename+f'_N={N}_{rv_true.label}_distance_matrix.txt')\n",
    "        for rv_alter in rvs:\n",
    "            # generate samples\n",
    "            samples = [rv_alter.rvs(N) for i in range(mc_samples)]\n",
    "            # perform topo tests\n",
    "            topo_out = topo_test.predict(samples)\n",
    "            # aggregate results of topo tests\n",
    "            topo_min = np.mean(topo_out.min)\n",
    "            topo_mean = np.mean(topo_out.mean)\n",
    "            topo_max = np.mean(topo_out.max)\n",
    "            topo_quantile = np.mean(topo_out.quantile)\n",
    "            # collect results of KS and CvM tests\n",
    "            ks, cvm = gof_tests(samples, cdf=rv_true.cdf)\n",
    "            # collect results of topo tests and goodness of fit (gof) tests\n",
    "            result = [rv_true.label, rv_alter.label, method, significance_level, wasserstein_p, wasserstein_order, \n",
    "                      mc_samples, n_signature, n_test, \n",
    "                      topo_min, topo_mean, topo_max, topo_quantile,\n",
    "                      ks, cvm]\n",
    "            results.append(result)\n",
    "            # save results to .csv file\n",
    "            results_df = pd.DataFrame(results, columns=result_labels)\n",
    "            results_df.to_csv(f'{outputfile_basename}_N={N}.csv')\n",
    "    return results"
   ]
  },
  {
   "cell_type": "code",
   "execution_count": 4,
   "id": "e573aed6-e42e-4e8e-aab6-010a02d59fc8",
   "metadata": {},
   "outputs": [],
   "source": [
    "rvs = [MultivariateDistribution([st.norm()], label='N_0_1'),\n",
    "       MultivariateDistribution([st.norm(0, 1.5)], label='N_0_2'),\n",
    "       MultivariateDistribution([st.norm(0.5, 1)], label='N_0.5_1'),\n",
    "       MultivariateDistribution([st.beta(2, 2)], label='beta_2_2'),\n",
    "       MultivariateDistribution([st.beta(5, 5)], label='beta_5_5'),\n",
    "       MultivariateDistribution([st.laplace()], label='laplace'),\n",
    "       MultivariateDistribution([st.uniform()], label='U_0_1'),\n",
    "       MultivariateDistribution([st.t(df=3)], label='T_3'),\n",
    "       MultivariateDistribution([st.t(df=5)], label='T_5'),\n",
    "       MultivariateDistribution([st.t(df=10)], label='T_10'),\n",
    "       MultivariateDistribution([st.cauchy()], label='Cauchy'),\n",
    "       MultivariateDistribution([st.logistic()], label='Logistic'),\n",
    "       MultivariateDistribution([AbsoluteDistribution(rv=st.norm())], label='HalfNormal'),\n",
    "       MultivariateDistribution([GaussianMixture([-1, 1], [1, 1], [0.5, 0.5])], label='GM_1'),\n",
    "       MultivariateDistribution([GaussianMixture([-0.5, -0.5], [1, 1], [0.5, 0.5])], label='GM_2'),\n",
    "       MultivariateDistribution([GaussianMixture([0, 1], [1, 2], [0.9, 0.1])], label='GM_3')\n",
    "      ]"
   ]
  },
  {
   "cell_type": "code",
   "execution_count": 5,
   "id": "65c8ebc8-6a2f-47b1-962e-f3eb6cc358ed",
   "metadata": {},
   "outputs": [],
   "source": [
    "# set random numbers generator seed to have reproducibale results\n",
    "np.random.seed(1)\n",
    "\n",
    "# set simulation parameters\n",
    "Ns = [100]\n",
    "mc_samples = 200\n",
    "n_signature = n_test = 750\n",
    "method = 'mergegram'\n",
    "\n",
    "dim = 1\n",
    "significance_level = 0.05\n",
    "wasserstein_p=1\n",
    "wasserstein_order=1\n",
    "\n",
    "outputfile_basename = f'results.{dim}d/{method}_{wasserstein_p}_{wasserstein_order}'"
   ]
  },
  {
   "cell_type": "code",
   "execution_count": null,
   "id": "1963f33a-763a-4d3a-9636-b4d3c8d7ecf4",
   "metadata": {},
   "outputs": [],
   "source": [
    "for N in Ns:\n",
    "    results = run_mc(N=N, rvs=rvs)"
   ]
  }
 ],
 "metadata": {
  "kernelspec": {
   "display_name": "Python 3",
   "language": "python",
   "name": "python3"
  },
  "language_info": {
   "codemirror_mode": {
    "name": "ipython",
    "version": 3
   },
   "file_extension": ".py",
   "mimetype": "text/x-python",
   "name": "python",
   "nbconvert_exporter": "python",
   "pygments_lexer": "ipython3",
   "version": "3.8.10"
  }
 },
 "nbformat": 4,
 "nbformat_minor": 5
}
