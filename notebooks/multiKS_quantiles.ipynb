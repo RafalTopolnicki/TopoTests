{
 "cells": [
  {
   "cell_type": "code",
   "execution_count": 1,
   "id": "a8c2c322-37b4-4134-a7d5-927f46dfb423",
   "metadata": {},
   "outputs": [],
   "source": [
    "import numpy as np\n",
    "import sys\n",
    "import scipy.stats as st\n",
    "import matplotlib.pyplot as plt\n",
    "from pathlib import Path\n",
    "from itertools import combinations\n",
    "sys.path.append('../multiKS/')\n",
    "from multiKS import multiKS\n",
    "from concurrent.futures import ThreadPoolExecutor, ProcessPoolExecutor\n",
    "import pickle"
   ]
  },
  {
   "cell_type": "code",
   "execution_count": 2,
   "id": "b269c2a0-c18f-47b8-9a16-e799a380fb3b",
   "metadata": {},
   "outputs": [],
   "source": [
    "def flatten(t):\n",
    "    return [item for sublist in t for item in sublist]"
   ]
  },
  {
   "cell_type": "code",
   "execution_count": 36,
   "id": "0d7a508a-7f0f-443f-a052-a5857218cce2",
   "metadata": {},
   "outputs": [],
   "source": [
    "dim = 4\n",
    "mu = [0]*dim\n",
    "sigma = np.identity(dim)\n",
    "\n",
    "#mu = [1,2,3,0]\n",
    "#sigma = [[1,0,0,0], [0, 1, 0.1, 0.5], [0.2, 1, 2, 1], [0, 0.5, 0, 1]]\n",
    "\n",
    "rv = st.multivariate_normal(mu, sigma)\n",
    "def KS_wrapper(Xs):\n",
    "    return [multiKS(X, rv.cdf) for X in Xs]"
   ]
  },
  {
   "cell_type": "code",
   "execution_count": 40,
   "id": "c2dd018f-2e38-435c-896d-b433ebfd1b92",
   "metadata": {},
   "outputs": [
    {
     "name": "stdout",
     "output_type": "stream",
     "text": [
      "N=50\n"
     ]
    }
   ],
   "source": [
    "mc_loops_per_core = 40\n",
    "n_cores = 8\n",
    "results = {}\n",
    "\n",
    "#for N in [10, 20, 30, 40, 50, 75, 100, 150, 200, 300]:\n",
    "for N in [50]:\n",
    "    print(f'N={N}')\n",
    "    samples = [[rv.rvs(N) for i in range(mc_loops_per_core)] for j in range(n_cores)]\n",
    "    with ProcessPoolExecutor() as executor:\n",
    "        res = executor.map(KS_wrapper, samples)\n",
    "    results[N] = flatten(res)\n",
    "    #with open(f'KS_results_dim={dim}.pickle', 'wb') as handle:\n",
    "    #    pickle.dump(results, handle)"
   ]
  },
  {
   "cell_type": "code",
   "execution_count": 35,
   "id": "3601451d-e7b5-484f-9960-c52e7c811241",
   "metadata": {},
   "outputs": [
    {
     "data": {
      "text/plain": [
       "(0.9309422655249323, 0.9509319447934322)"
      ]
     },
     "execution_count": 35,
     "metadata": {},
     "output_type": "execute_result"
    }
   ],
   "source": [
    "np.quantile(results[30], 0.9), np.quantile(results[30], 0.95)"
   ]
  },
  {
   "cell_type": "code",
   "execution_count": 39,
   "id": "9f394060-bf2e-41eb-84b5-b90588d08ba1",
   "metadata": {},
   "outputs": [
    {
     "data": {
      "text/plain": [
       "(0.8751609284241965, 0.909591013723301, 0.9370494481824921)"
      ]
     },
     "execution_count": 39,
     "metadata": {},
     "output_type": "execute_result"
    }
   ],
   "source": [
    "np.quantile(results[30], 0.8), np.quantile(results[30], 0.9), np.quantile(results[30], 0.95)"
   ]
  }
 ],
 "metadata": {
  "kernelspec": {
   "display_name": "Python 3",
   "language": "python",
   "name": "python3"
  },
  "language_info": {
   "codemirror_mode": {
    "name": "ipython",
    "version": 3
   },
   "file_extension": ".py",
   "mimetype": "text/x-python",
   "name": "python",
   "nbconvert_exporter": "python",
   "pygments_lexer": "ipython3",
   "version": "3.8.10"
  }
 },
 "nbformat": 4,
 "nbformat_minor": 5
}
