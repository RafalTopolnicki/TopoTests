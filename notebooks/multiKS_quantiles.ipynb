{
 "cells": [
  {
   "cell_type": "code",
   "execution_count": 1,
   "id": "a8c2c322-37b4-4134-a7d5-927f46dfb423",
   "metadata": {},
   "outputs": [],
   "source": [
    "import numpy as np\n",
    "import sys\n",
    "import scipy.stats as st\n",
    "import matplotlib.pyplot as plt\n",
    "from pathlib import Path\n",
    "from itertools import combinations\n",
    "sys.path.append('../multiKS/')\n",
    "from multiKS import multiKS\n",
    "from concurrent.futures import ThreadPoolExecutor, ProcessPoolExecutor"
   ]
  },
  {
   "cell_type": "code",
   "execution_count": 2,
   "id": "0d7a508a-7f0f-443f-a052-a5857218cce2",
   "metadata": {},
   "outputs": [],
   "source": [
    "dim = 2\n",
    "mu = [0]*dim\n",
    "sigma = np.identity(dim)\n",
    "rv = st.multivariate_normal(mu, sigma)"
   ]
  },
  {
   "cell_type": "code",
   "execution_count": 18,
   "id": "c2dd018f-2e38-435c-896d-b433ebfd1b92",
   "metadata": {},
   "outputs": [],
   "source": [
    "mc_loops_per_core = 40\n",
    "n_cores = 8\n",
    "N = 50\n",
    "samples = [[rv.rvs(N) for i in range(mc_loops_per_core)] for j in range(n_cores)]\n",
    "\n",
    "def KS_wrapper(Xs):\n",
    "    return [multiKS(X, rv.cdf) for X in Xs]"
   ]
  },
  {
   "cell_type": "code",
   "execution_count": 19,
   "id": "df9d1668-ffba-4d46-827a-2a6ca462b98f",
   "metadata": {},
   "outputs": [],
   "source": [
    "with ProcessPoolExecutor() as executor:\n",
    "    results = executor.map(KS_wrapper, samples)"
   ]
  },
  {
   "cell_type": "code",
   "execution_count": 23,
   "id": "2a7d4e6d-5ab1-4e0c-bd26-d619cdf3fadc",
   "metadata": {},
   "outputs": [],
   "source": [
    "np.save(f'KS_results_dim={dim}.npy', list(results))"
   ]
  }
 ],
 "metadata": {
  "kernelspec": {
   "display_name": "Python 3",
   "language": "python",
   "name": "python3"
  },
  "language_info": {
   "codemirror_mode": {
    "name": "ipython",
    "version": 3
   },
   "file_extension": ".py",
   "mimetype": "text/x-python",
   "name": "python",
   "nbconvert_exporter": "python",
   "pygments_lexer": "ipython3",
   "version": "3.8.10"
  }
 },
 "nbformat": 4,
 "nbformat_minor": 5
}
