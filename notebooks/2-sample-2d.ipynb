{
 "cells": [
  {
   "cell_type": "code",
   "execution_count": 1,
   "id": "12b103cb-8bd4-4791-b378-6170ff5d5628",
   "metadata": {},
   "outputs": [
    {
     "data": {
      "text/plain": [
       "RayContext(dashboard_url='', python_version='3.9.7', ray_version='1.12.0', ray_commit='f18fc31c7562990955556899090f8e8656b48d2d', address_info={'node_ip_address': '192.168.1.200', 'raylet_ip_address': '192.168.1.200', 'redis_address': None, 'object_store_address': '/tmp/ray/session_2022-05-15_23-43-35_114971_29185/sockets/plasma_store', 'raylet_socket_name': '/tmp/ray/session_2022-05-15_23-43-35_114971_29185/sockets/raylet', 'webui_url': '', 'session_dir': '/tmp/ray/session_2022-05-15_23-43-35_114971_29185', 'metrics_export_port': 63269, 'gcs_address': '192.168.1.200:56244', 'address': '192.168.1.200:56244', 'node_id': '78bd247afcabb8fdebacc4f99e38915f4b0cd13b69b46a038f53356b'})"
      ]
     },
     "execution_count": 1,
     "metadata": {},
     "output_type": "execute_result"
    }
   ],
   "source": [
    "import numpy as np\n",
    "import argparse\n",
    "import sys\n",
    "import scipy.stats as st\n",
    "import matplotlib.pyplot as plt\n",
    "from pathlib import Path\n",
    "# setting path\n",
    "sys.path.append('/home/rafal/ROZKLADY/TopoTests/topotests/')\n",
    "sys.path.append('/home/rafal/ROZKLADY/TopoTests/multiKS/')\n",
    "sys.path.append('/home/rafal/ROZKLADY/TopoTests/2DKS/')\n",
    "\n",
    "from topotests import TopoTest\n",
    "from distributions import MultivariateDistribution, GaussianMixture, AbsoluteDistribution\n",
    "from multiKS import multiKS\n",
    "from KS2D import ks2d2s\n",
    "\n",
    "import pandas as pd\n",
    "from concurrent.futures import ProcessPoolExecutor\n",
    "from functools import partial\n",
    "import datetime\n",
    "import sys, getopt\n",
    "import scipy\n",
    "\n",
    "import pickle\n",
    "\n",
    "from ecc import *\n",
    "import scipy.interpolate as spi"
   ]
  },
  {
   "cell_type": "code",
   "execution_count": 2,
   "id": "a365a2f8-6039-45a8-bc28-9974d478d9b7",
   "metadata": {},
   "outputs": [],
   "source": [
    "def get_ecc(X, xgrid, standarize=True):\n",
    "    n = len(X)\n",
    "    xmax = np.max(xgrid)\n",
    "    ecc = np.array(compute_ECC_contributions_alpha(X))\n",
    "    ecc[:, 1] = np.cumsum(ecc[:, 1])\n",
    "    ecc = np.vstack([ecc, [xmax, 1]])\n",
    "    if standarize:\n",
    "        ecc[:, 1] = ecc[:, 1]/n\n",
    "        ecc[:, 0] = ecc[:, 0]*n\n",
    "    interpolator = spi.interp1d(ecc[:, 0], ecc[:, 1], kind='previous')\n",
    "    ecc = interpolator(xgrid)\n",
    "    return ecc\n",
    "\n",
    "def dist_ecc(ecc1, ecc2):\n",
    "    return np.max(np.abs(ecc1-ecc2))"
   ]
  },
  {
   "cell_type": "code",
   "execution_count": 3,
   "id": "be4b6fa6-06f0-45c2-bb20-fda92b202fc2",
   "metadata": {},
   "outputs": [],
   "source": [
    "rvs = [MultivariateDistribution([st.norm(), st.norm()], label='N01xN01'),\n",
    "       MultivariateDistribution([st.norm(scale=2), st.norm(scale=2)], label='N02xN02'),\n",
    "       MultivariateDistribution([st.t(df=3), st.t(df=3)], label='T3xT3'),\n",
    "       MultivariateDistribution([st.t(df=5), st.t(df=5)], label='T5xT5'),\n",
    "       MultivariateDistribution([st.t(df=10), st.t(df=10)], label='T10xT10'),\n",
    "       MultivariateDistribution([st.logistic(), st.logistic()], label='LogisticxLogistic'),\n",
    "       MultivariateDistribution([st.laplace(), st.laplace()], label='LaplacexLaplace'),\n",
    "       MultivariateDistribution([st.norm(), st.t(df=5)], label='N01xT5'),\n",
    "       MultivariateDistribution([GaussianMixture([-1, 1], [1, 1], [0.5, 0.5]),\n",
    "                                GaussianMixture([-1, 1], [1, 1], [0.5, 0.5])], label='GM_1xGM_1'),\n",
    "       MultivariateDistribution([st.norm(),\n",
    "                                GaussianMixture([-1, 1], [1, 1], [0.5, 0.5])], label='N01xGM_1')      \n",
    "      ]"
   ]
  },
  {
   "cell_type": "code",
   "execution_count": 4,
   "id": "c68ddb26-e199-42ec-9719-f708d2cca4a5",
   "metadata": {},
   "outputs": [],
   "source": [
    "def topotest2s(X1, X2, xgrid, mcloops=500):\n",
    "    n = X1.shape[0]\n",
    "    ecc1 = get_ecc(X1, xgrid=xgrid, standarize=False)\n",
    "    ecc2 = get_ecc(X2, xgrid=xgrid, standarize=False)\n",
    "    D = dist_ecc(ecc1, ecc2)\n",
    "    X12 = np.vstack([X1, X2])\n",
    "    distances = []\n",
    "    for _ in range(mcloops):\n",
    "        inds = np.random.permutation(2*n)\n",
    "        X = X12[inds[:n]]\n",
    "        y0 = get_ecc(X, xgrid=xgrid, standarize=False)\n",
    "        X = X12[inds[n:]]\n",
    "        y1 = get_ecc(X, xgrid=xgrid, standarize=False)\n",
    "        distances.append(dist_ecc(y0, y1))\n",
    "    pval = np.mean(distances > D)\n",
    "    return D, pval, distances"
   ]
  },
  {
   "cell_type": "code",
   "execution_count": 5,
   "id": "404f1fdd-7f8c-4f14-b22e-bd6a45e64f16",
   "metadata": {},
   "outputs": [],
   "source": [
    "def run_mc(rv1, rv2, n, mcloops_emp=500):\n",
    "    xgrid = np.linspace(0, 3, 2500)\n",
    "    pvals_tt = []\n",
    "    pvals_ks = []\n",
    "    for emp_loop in range(mcloops_emp):\n",
    "        X1 = rv1.rvs(n)\n",
    "        X2 = rv2.rvs(n)\n",
    "        # run TopoTest\n",
    "        D, pval_tt, distances = topotest2s(X1, X2, xgrid=xgrid)\n",
    "        pvals_tt.append(pval_tt)\n",
    "        # run K-S\n",
    "        pvals_ks.append(ks2d2s(X1, X2)[1])\n",
    "    return pvals_tt, pvals_ks"
   ]
  },
  {
   "cell_type": "code",
   "execution_count": 6,
   "id": "4b46e22f-7cf3-408a-b2d4-64f2407eb7c7",
   "metadata": {},
   "outputs": [],
   "source": [
    "def run_all(n):\n",
    "    import sys\n",
    "    results = {}\n",
    "    for rv1 in rvs:\n",
    "        results[rv1.label] = {}\n",
    "        print(f'n={n} label={rv1.label}')\n",
    "        for rv2 in rvs:\n",
    "            pvals_tt, pvals_ks = run_mc(rv1, rv2, n=n, mcloops_emp=10)\n",
    "            results[rv1.label][rv2.label] = [n, pvals_tt, pvals_ks]\n",
    "    with open(f'results.2d_2s/n{n}.pickle', 'wb') as handle:\n",
    "        pickle.dump(results, handle, protocol=pickle.HIGHEST_PROTOCOL)"
   ]
  },
  {
   "cell_type": "code",
   "execution_count": null,
   "id": "96d27863-7e04-4031-a649-903e6ff14c62",
   "metadata": {},
   "outputs": [],
   "source": [
    "def main():\n",
    "    parser = argparse.ArgumentParser()\n",
    "    parser.add_argument(\"--n\", type=int, required=True, help=\"sample size\")\n",
    "    args = parser.parse_args()\n",
    "\n",
    "    run_all(args.n)\n",
    "\n",
    "if __name__ == \"__main__\":\n",
    "    main()"
   ]
  }
 ],
 "metadata": {
  "kernelspec": {
   "display_name": "Python 3 (ipykernel)",
   "language": "python",
   "name": "python3"
  },
  "language_info": {
   "codemirror_mode": {
    "name": "ipython",
    "version": 3
   },
   "file_extension": ".py",
   "mimetype": "text/x-python",
   "name": "python",
   "nbconvert_exporter": "python",
   "pygments_lexer": "ipython3",
   "version": "3.9.7"
  }
 },
 "nbformat": 4,
 "nbformat_minor": 5
}
