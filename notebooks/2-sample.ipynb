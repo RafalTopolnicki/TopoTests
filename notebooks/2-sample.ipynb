{
 "cells": [
  {
   "cell_type": "code",
   "execution_count": 1,
   "id": "12b103cb-8bd4-4791-b378-6170ff5d5628",
   "metadata": {},
   "outputs": [],
   "source": [
    "import numpy as np\n",
    "import sys\n",
    "import scipy.stats as st\n",
    "import matplotlib.pyplot as plt\n",
    "from pathlib import Path\n",
    "# setting path\n",
    "sys.path.append('../topotests/')\n",
    "sys.path.append('../multiKS/')\n",
    "from topotests import TopoTest\n",
    "from distributions import MultivariateDistribution, GaussianMixture, AbsoluteDistribution\n",
    "from multiKS import multiKS\n",
    "import pandas as pd\n",
    "from concurrent.futures import ProcessPoolExecutor\n",
    "from functools import partial\n",
    "import datetime\n",
    "import sys, getopt\n",
    "import scipy"
   ]
  },
  {
   "cell_type": "code",
   "execution_count": 2,
   "id": "11770876-4985-4650-b6f1-4d404c158462",
   "metadata": {},
   "outputs": [],
   "source": [
    "from ecc import *\n",
    "import scipy.interpolate as spi"
   ]
  },
  {
   "cell_type": "code",
   "execution_count": 4,
   "id": "1d64c4b3-c729-4457-b53e-5164596f82db",
   "metadata": {},
   "outputs": [],
   "source": [
    "rv = MultivariateDistribution([st.norm(), st.norm(), st.norm()], label='N01xN01xN01')\n",
    "#rv = MultivariateDistribution([st.beta(2,2), st.beta(2,2), st.beta(2,2)], label='B22xB22xB22')"
   ]
  },
  {
   "cell_type": "code",
   "execution_count": null,
   "id": "92341a8a-770d-40ee-b1ce-6edd5c777f22",
   "metadata": {},
   "outputs": [],
   "source": [
    "ns = [50, 100, 300, 500, 1000]\n",
    "res = []\n",
    "for n in ns:\n",
    "    print(f'n={n}')\n",
    "    for mc in range(500):\n",
    "        ds = []\n",
    "        X1 = rv.rvs(n)\n",
    "        X2 = rv.rvs(n)\n",
    "\n",
    "        ecc1 = np.array(compute_ECC_contributions_alpha(X1))\n",
    "        ecc1[:, 1] = np.cumsum(ecc1[:, 1])\n",
    "\n",
    "        ecc2 = np.array(compute_ECC_contributions_alpha(X2))\n",
    "        ecc2[:, 1] = np.cumsum(ecc2[:, 1])\n",
    "\n",
    "        xgrid = np.linspace(0, np.min([ecc1[-1, 0], ecc2[-1, 0]]), 2000)\n",
    "\n",
    "        interpolator = spi.interp1d(ecc1[:, 0], ecc1[:, 1], kind='previous')\n",
    "        y1 = interpolator(xgrid)\n",
    "        interpolator = spi.interp1d(ecc2[:, 0], ecc2[:, 1], kind='previous')\n",
    "        y2 = interpolator(xgrid)\n",
    "\n",
    "        d = np.max(np.abs(y1-y2))\n",
    "\n",
    "        ds.append(d)\n",
    "    res.append([n, np.quantile(ds, 0.95)])"
   ]
  },
  {
   "cell_type": "code",
   "execution_count": 44,
   "id": "bdf8c86c-fb7b-4565-b2b3-1f609e3de9b0",
   "metadata": {},
   "outputs": [],
   "source": [
    "#res_B = np.array(res)"
   ]
  },
  {
   "cell_type": "code",
   "execution_count": 48,
   "id": "f6fb695d-07c7-4400-b500-fd0a33c7a401",
   "metadata": {},
   "outputs": [],
   "source": [
    "res_N = np.array(res)"
   ]
  },
  {
   "cell_type": "code",
   "execution_count": 49,
   "id": "ab306ef2-9495-42b0-ae68-3bd9e2009332",
   "metadata": {},
   "outputs": [
    {
     "data": {
      "text/plain": [
       "[<matplotlib.lines.Line2D at 0x7fbac465d700>]"
      ]
     },
     "execution_count": 49,
     "metadata": {},
     "output_type": "execute_result"
    },
    {
     "data": {
      "image/png": "[encoded data removed]",
      "text/plain": [
       "<Figure size 432x288 with 1 Axes>"
      ]
     },
     "metadata": {
      "needs_background": "light"
     },
     "output_type": "display_data"
    }
   ],
   "source": [
    "res = np.array(res)\n",
    "plt.plot(res_N[:, 0], res_N[:, 1], 'o-')\n",
    "plt.plot(res_B[:, 0], res_B[:, 1], 'o-')"
   ]
  },
  {
   "cell_type": "code",
   "execution_count": 203,
   "id": "ef0f94f8-e14d-414b-acd0-a4807190ae9e",
   "metadata": {},
   "outputs": [
    {
     "data": {
      "text/plain": [
       "array([0.3405 , 0.32525, 0.121  , 0.15025])"
      ]
     },
     "execution_count": 203,
     "metadata": {},
     "output_type": "execute_result"
    }
   ],
   "source": [
    "def get_ecc(X, standarize=True):\n",
    "    n = len(X)\n",
    "    ecc = np.array(compute_ECC_contributions_alpha(X))\n",
    "    ecc[:, 1] = np.cumsum(ecc[:, 1])\n",
    "    if standarize:\n",
    "        ecc[:, 1] = ecc[:, 1]/n\n",
    "        ecc[:, 0] = ecc[:, 0]*n\n",
    "    return ecc\n",
    "\n",
    "ds = []\n",
    "\n",
    "rv = MultivariateDistribution([st.beta(2,2), st.beta(2,2), st.beta(2,2)], label='B22xB22xB22')\n",
    "\n",
    "for mc in range(100):\n",
    "    X1 = rv.rvs(n)\n",
    "    X2 = rv.rvs(n)\n",
    "    X12 = np.vstack([X1, X2])\n",
    "    ecc1 = get_ecc(X1)\n",
    "    ecc2 = get_ecc(X2)\n",
    "    ecc12 = get_ecc(X12)\n",
    "    xgrid = np.linspace(0, np.min([ecc1[-1, 0], ecc2[-1, 0], ecc12[-1, 0]]), 2000)\n",
    "\n",
    "    interpolator = spi.interp1d(ecc1[:, 0], ecc1[:, 1], kind='previous')\n",
    "    y1 = interpolator(xgrid)\n",
    "    interpolator = spi.interp1d(ecc2[:, 0], ecc2[:, 1], kind='previous')\n",
    "    y2 = interpolator(xgrid)\n",
    "    interpolator = spi.interp1d(ecc12[:, 0], ecc12[:, 1], kind='previous')\n",
    "    y12 = interpolator(xgrid)\n",
    "\n",
    "    d1 = np.max(np.abs(y1-y12))\n",
    "    d2 = np.max(np.abs(y2-y12))\n",
    "    \n",
    "    ds.append([d1, d2, d1-d2, np.abs(d1-d2)])\n",
    "\n",
    "ds = np.array(ds)\n",
    "np.quantile(ds, q=0.95, axis=0)\n",
    "#plt.plot(ecc1[:, 0], ecc1[:, 1])\n",
    "#plt.plot(ecc2[:, 0], ecc2[:, 1])\n",
    "#plt.xlim((0, 50))"
   ]
  },
  {
   "cell_type": "code",
   "execution_count": 199,
   "id": "50a071c9-1752-473c-a872-076b85521cc0",
   "metadata": {},
   "outputs": [
    {
     "data": {
      "text/plain": [
       "array([0.1455 , 0.145  , 0.04525, 0.06025])"
      ]
     },
     "execution_count": 199,
     "metadata": {},
     "output_type": "execute_result"
    }
   ],
   "source": [
    "np.quantile(ds, q=0.95, axis=0)"
   ]
  },
  {
   "cell_type": "code",
   "execution_count": 73,
   "id": "90dfd1ca-7d53-4f94-b7d4-0e7053eb6e59",
   "metadata": {},
   "outputs": [],
   "source": [
    "def secondmin(arr):\n",
    "    sublist = [x for x in arr if x > min(arr)]\n",
    "    return min(sublist)\n",
    "\n",
    "def distances(X):\n",
    "    dmin = []\n",
    "    davg = []\n",
    "    for x in X:\n",
    "        dmin.append(secondmin(np.linalg.norm(X-x, axis=1)))\n",
    "        davg.append(np.mean(np.linalg.norm(X-x, axis=1))) #this contains 0\n",
    "    return np.mean(dmin), np.mean(davg)"
   ]
  },
  {
   "cell_type": "code",
   "execution_count": 119,
   "id": "e838a3e4-29e1-45f9-a644-32548506a817",
   "metadata": {},
   "outputs": [],
   "source": [
    "rv = MultivariateDistribution([st.norm(), st.norm()], label='N01xN01xN01')\n",
    "ns = [10, 25, 50, 100, 200, 300, 500, 750, 1000, 1500]\n",
    "dist = []\n",
    "for n in ns:\n",
    "    X = rv.rvs(n)\n",
    "    dist.append([n, *distances(X)])\n",
    "\n",
    "dist = np.array(dist)"
   ]
  },
  {
   "cell_type": "code",
   "execution_count": 120,
   "id": "cc7ce082-9542-40ba-a96a-b459050304d7",
   "metadata": {},
   "outputs": [
    {
     "name": "stdout",
     "output_type": "stream",
     "text": [
      "      fun: 0.003724445136812218\n",
      " hess_inv: array([[65.13615771, -5.40805114],\n",
      "       [-5.40805114,  0.48773117]])\n",
      "      jac: array([ 1.50757842e-08, -6.82834070e-07])\n",
      "  message: 'Optimization terminated successfully.'\n",
      "     nfev: 45\n",
      "      nit: 12\n",
      "     njev: 15\n",
      "   status: 0\n",
      "  success: True\n",
      "        x: array([ 3.87652961, -0.60821548])\n"
     ]
    },
    {
     "data": {
      "text/plain": [
       "[<matplotlib.lines.Line2D at 0x7fbabe7785b0>]"
      ]
     },
     "execution_count": 120,
     "metadata": {},
     "output_type": "execute_result"
    },
    {
     "data": {
      "image/png": "[encoded data removed]",
      "text/plain": [
       "<Figure size 432x288 with 1 Axes>"
      ]
     },
     "metadata": {
      "needs_background": "light"
     },
     "output_type": "display_data"
    }
   ],
   "source": [
    "def _f(param):\n",
    "    y = param[0]*dist[:, 0]**param[1]\n",
    "    return np.sum((y-dist[:, 1])**2)\n",
    "\n",
    "res = scipy.optimize.minimize(_f, [1, -1/3])\n",
    "print(res)\n",
    "y = res.x[0]*dist[:, 0]**res.x[1]\n",
    "plt.plot(dist[:, 0], dist[:, 1], 'o-')\n",
    "plt.plot(dist[:, 0], y)"
   ]
  },
  {
   "cell_type": "code",
   "execution_count": null,
   "id": "915164b1-2186-45fa-8bf9-3a04cffb08da",
   "metadata": {},
   "outputs": [],
   "source": [
    "# Niklas idea"
   ]
  },
  {
   "cell_type": "code",
   "execution_count": 3,
   "id": "6ef7463b-3970-49ae-adf8-72800d2850aa",
   "metadata": {},
   "outputs": [],
   "source": [
    "def get_ecc(X, xgrid, standarize=True):\n",
    "    n = len(X)\n",
    "    xmax = np.max(xgrid)\n",
    "    ecc = np.array(compute_ECC_contributions_alpha(X))\n",
    "    ecc[:, 1] = np.cumsum(ecc[:, 1])\n",
    "    ecc = np.vstack([ecc, [xmax, 1]])\n",
    "    if standarize:\n",
    "        ecc[:, 1] = ecc[:, 1]/n\n",
    "        ecc[:, 0] = ecc[:, 0]*n\n",
    "    interpolator = spi.interp1d(ecc[:, 0], ecc[:, 1], kind='previous')\n",
    "    ecc = interpolator(xgrid)\n",
    "    return ecc\n",
    "\n",
    "def dist_ecc(ecc1, ecc2):\n",
    "    return np.max(np.abs(ecc1-ecc2))"
   ]
  },
  {
   "cell_type": "code",
   "execution_count": 29,
   "id": "ac540fd9-8006-4495-b865-651b28209617",
   "metadata": {},
   "outputs": [],
   "source": [
    "rv_norm = MultivariateDistribution([st.norm(), st.norm(), st.norm()], label='N01xN01xN01')\n",
    "rv_beta = MultivariateDistribution([st.beta(2,2), st.beta(2,2), st.beta(2,2)], label='B22xB22xB22')\n",
    "rv_bnu = MultivariateDistribution([st.beta(2,2), st.norm(), st.uniform()], label='B22xN01xU01')\n",
    "\n",
    "\n",
    "rv = rv_norm"
   ]
  },
  {
   "cell_type": "code",
   "execution_count": null,
   "id": "152abe29-6baf-41e6-bcbc-9821119fdf36",
   "metadata": {},
   "outputs": [],
   "source": [
    "# MACIERZ ODLEGLOSCI\n",
    "# WARTOSC GRANICZNA WYZNACZANA Z MACIERZY ODEGLOSCI\n",
    "\n",
    "n = 1000\n",
    "replace = False\n",
    "xgrid = np.linspace(0, 3, 1000)\n",
    "mcloops_emp = 200\n",
    "rejected = 0\n",
    "distances = []\n",
    "for loop_emp in range(mcloops_emp):\n",
    "    if loop_emp % 10 == 0:\n",
    "        print(f'loop_emp = {loop_emp} rejected={rejected}')\n",
    "    X1 = rv.rvs(n)\n",
    "    X2 = rv.rvs(n)\n",
    "    ecc1 = get_ecc(X1, xgrid=xgrid, standarize=False)\n",
    "    ecc2 = get_ecc(X2, xgrid=xgrid, standarize=False)\n",
    "    mcloops = 200\n",
    "    X12 = np.vstack([X1, X2])\n",
    "    eccs = []\n",
    "    for _ in range(mcloops):\n",
    "        X1_ = X1[np.random.choice(n, int(n/2), replace=replace)]\n",
    "        X2_ = X2[np.random.choice(n, int(n/2), replace=replace)]\n",
    "        X = np.vstack([X1_, X2_])\n",
    "        y = get_ecc(X, xgrid=xgrid, standarize=False)\n",
    "        eccs.append(y)\n",
    "    eccs = np.array(eccs)\n",
    "    dist = []\n",
    "    for row in range(mcloops-1):\n",
    "        for col in range(row+1, mcloops):\n",
    "            dist.append(dist_ecc(eccs[row, :], eccs[col, :]))\n",
    "    threshold = np.quantile(dist, q=1-0.5*0.1)\n",
    "    dist_samples = dist_ecc(ecc1, ecc2)\n",
    "    distances.append([dist_samples, threshold])\n",
    "    if dist_samples > threshold:\n",
    "        rejected = rejected + 1\n",
    "print(rejected/mcloops_emp)"
   ]
  },
  {
   "cell_type": "code",
   "execution_count": 31,
   "id": "1a2bbfac-b62c-4cf1-a771-3a8f46bd1ff7",
   "metadata": {},
   "outputs": [
    {
     "name": "stdout",
     "output_type": "stream",
     "text": [
      "loop_emp = 0\n",
      "loop_emp = 10\n",
      "loop_emp = 20\n",
      "loop_emp = 30\n",
      "loop_emp = 40\n",
      "loop_emp = 50\n",
      "loop_emp = 60\n",
      "loop_emp = 70\n",
      "loop_emp = 80\n",
      "loop_emp = 90\n",
      "loop_emp = 100\n",
      "loop_emp = 110\n",
      "loop_emp = 120\n",
      "loop_emp = 130\n",
      "loop_emp = 140\n",
      "loop_emp = 150\n",
      "loop_emp = 160\n",
      "loop_emp = 170\n",
      "loop_emp = 180\n",
      "loop_emp = 190\n"
     ]
    }
   ],
   "source": [
    "# TEST PERMUTACYJNY\n",
    "\n",
    "n = 100\n",
    "replace = False\n",
    "xgrid = np.linspace(0, 3, 1000)\n",
    "mcloops_emp = 200\n",
    "\n",
    "pvals = []\n",
    "for loop_emp in range(mcloops_emp):\n",
    "    if loop_emp % 10 == 0:\n",
    "        print(f'loop_emp = {loop_emp}')\n",
    "    # X1 = rv.rvs(n)\n",
    "    # X2 = rv.rvs(n)\n",
    "    X1 = rv_norm.rvs(n)\n",
    "    X2 = rv_beta.rvs(n)\n",
    "    ecc1 = get_ecc(X1, xgrid=xgrid, standarize=False)\n",
    "    ecc2 = get_ecc(X2, xgrid=xgrid, standarize=False)\n",
    "    D = dist_ecc(ecc1, ecc2)\n",
    "    X12 = np.vstack([X1, X2])\n",
    "    distances = []\n",
    "    mcloops = 300\n",
    "    nhalf = int(n/2)\n",
    "    for _ in range(mcloops):\n",
    "        # zmienic tak zeby losowanie bylo z obu prob\n",
    "        inds1 = np.random.permutation(n)\n",
    "        inds2 = np.random.permutation(n)\n",
    "        X1_ = X1[inds1[:nhalf]]\n",
    "        X2_ = X2[inds1[:nhalf]]\n",
    "        X = np.vstack([X1_, X2_])\n",
    "        y0 = get_ecc(X, xgrid=xgrid, standarize=False)\n",
    "        X1_ = X1[inds1[nhalf:]]\n",
    "        X2_ = X2[inds1[nhalf:]]\n",
    "        X = np.vstack([X1_, X2_])\n",
    "        y1 = get_ecc(X, xgrid=xgrid, standarize=False)\n",
    "        distances.append(dist_ecc(y0, y1))\n",
    "    pval = np.sum(distances > D)/mcloops\n",
    "    pvals.append(pval)"
   ]
  },
  {
   "cell_type": "code",
   "execution_count": null,
   "id": "14040a62-1442-4177-bab5-77287d2cec5e",
   "metadata": {},
   "outputs": [],
   "source": [
    "pvals = np.array(pvals)\n",
    "for alpha in [0.01, 0.05, 0.1, 0.2]:\n",
    "    prop = np.sum(pvals < alpha)/len(pvals)\n",
    "    print(f'alpha={alpha} prop={prop}')"
   ]
  }
 ],
 "metadata": {
  "kernelspec": {
   "display_name": "Python 3 (ipykernel)",
   "language": "python",
   "name": "python3"
  },
  "language_info": {
   "codemirror_mode": {
    "name": "ipython",
    "version": 3
   },
   "file_extension": ".py",
   "mimetype": "text/x-python",
   "name": "python",
   "nbconvert_exporter": "python",
   "pygments_lexer": "ipython3",
   "version": "3.9.7"
  }
 },
 "nbformat": 4,
 "nbformat_minor": 5
}
