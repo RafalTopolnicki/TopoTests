{
 "cells": [
  {
   "cell_type": "code",
   "execution_count": 36,
   "id": "e5ff7211-4c0e-4f43-8361-1493ab65351e",
   "metadata": {},
   "outputs": [],
   "source": [
    "import numpy as np\n",
    "import sys\n",
    "import scipy.stats as st\n",
    "import matplotlib.pyplot as plt\n",
    "from pathlib import Path\n",
    "# setting path\n",
    "sys.path.append('../topotests/')\n",
    "from topotests import TopoTest\n",
    "from distributions import MultivariateDistribution, GaussianMixture, AbsoluteDistribution\n",
    "import pandas as pd\n",
    "import datetime\n",
    "import sys, getopt\n",
    "import pickle"
   ]
  },
  {
   "cell_type": "code",
   "execution_count": 44,
   "id": "d1a512df-191d-4511-a536-9ab3c8e3ae3d",
   "metadata": {},
   "outputs": [],
   "source": [
    "def run_ecc(N, rvs):\n",
    "    # generate representation for standard normal distribution\n",
    "    topo_test = TopoTest(n=N, dim=dim, method='ecc', ecc_norm=ecc_norm)\n",
    "    results = {}\n",
    "    for rv_true in rvs:\n",
    "        print(f'*** {datetime.datetime.now()} N={N} RV={rv_true.label}')\n",
    "        topo_test.fit(rv=rv_true, n_signature=n_signature, n_test=n_test)\n",
    "        results[rv_true.label] = {rv_true.label: topo_test.representation_threshold['mean']}\n",
    "        \n",
    "        for rv_alter in rvs:\n",
    "            if rv_alter.label == rv_true.label:\n",
    "                continue\n",
    "            samples = [rv_alter.rvs(N) for i in range(mc_samples)]\n",
    "            topo_out = topo_test.predict(samples)\n",
    "            results[rv_true.label][rv_alter.label] = np.quantile(topo_test.representation_distance_predict, 1-topo_test.significance_level)\n",
    "    return results"
   ]
  },
  {
   "cell_type": "code",
   "execution_count": 15,
   "id": "e573aed6-e42e-4e8e-aab6-010a02d59fc8",
   "metadata": {},
   "outputs": [],
   "source": [
    "rvs = [MultivariateDistribution([st.norm(), st.norm(), st.norm()], label='N01xN01xN01'),\n",
    "       MultivariateDistribution([st.t(df=3), st.t(df=3), st.t(df=3)], label='T3xT3xT3'),\n",
    "       # MultivariateDistribution([st.t(df=5), st.t(df=5), st.t(df=5)], label='T5xT5xT5'),\n",
    "       # MultivariateDistribution([st.t(df=10), st.t(df=10), st.t(df=10)], label='T10xT10xT10'),\n",
    "       # MultivariateDistribution([st.logistic(), st.logistic(), st.logistic()], label='LogisticxLogisticxLogistic'),\n",
    "       # MultivariateDistribution([st.laplace(), st.laplace(), st.laplace()], label='LaplacexLaplacexLaplace'),\n",
    "       # MultivariateDistribution([st.norm(), st.t(df=5), st.t(df=5)], label='N01xT5xT5'),\n",
    "       # MultivariateDistribution([st.norm(), st.norm(), st.t(df=5)], label='N01xN01xT5'),\n",
    "       # MultivariateDistribution([GaussianMixture([-1, 1, 0], [1, 1, 1], [0.33, 0.33, 0.34]),\n",
    "       #                          GaussianMixture([-1, 1, 0], [1, 1, 1], [0.33, 0.33, 0.34]),\n",
    "       #                          GaussianMixture([-1, 1, 0], [1, 1, 2], [0.33, 0.33, 0.34])], label='GM1')\n",
    "                                ]"
   ]
  },
  {
   "cell_type": "code",
   "execution_count": null,
   "id": "8b422920-bdfb-4d29-8e64-9760fd1325d0",
   "metadata": {},
   "outputs": [],
   "source": [
    "argv = sys.argv[1:]\n",
    "ecc_norm = None\n",
    "\n",
    "try:\n",
    "    opts, args = getopt.getopt(argv,\"n:\")\n",
    "except getopt.GetoptError:\n",
    "    print('MC_ECC.py -m <method>')\n",
    "    sys.exit(2)\n",
    "for opt, arg in opts:\n",
    "    if opt in ('-n'):\n",
    "        ecc_norm = arg\n",
    "\n",
    "if ecc_norm == None:\n",
    "    raise ValueError('-n parameter missing')"
   ]
  },
  {
   "cell_type": "code",
   "execution_count": 45,
   "id": "19d18572-a340-49bd-ae4c-f52aba19498c",
   "metadata": {},
   "outputs": [
    {
     "name": "stdout",
     "output_type": "stream",
     "text": [
      "*** 2022-03-25 13:21:17.322718 N=25 RV=N01xN01xN01\n",
      "*** 2022-03-25 13:21:22.711493 N=25 RV=T3xT3xT3\n",
      "*** 2022-03-25 13:21:28.123833 N=25 RV=T5xT5xT5\n",
      "*** 2022-03-25 13:21:33.537133 N=25 RV=T10xT10xT10\n",
      "*** 2022-03-25 13:21:38.961432 N=50 RV=N01xN01xN01\n",
      "*** 2022-03-25 13:21:51.342308 N=50 RV=T3xT3xT3\n",
      "*** 2022-03-25 13:22:03.863509 N=50 RV=T5xT5xT5\n",
      "*** 2022-03-25 13:22:16.233837 N=50 RV=T10xT10xT10\n"
     ]
    }
   ],
   "source": [
    "Ns = [25, 50, 100, 200, 300, 500, 1000]\n",
    "dim=3\n",
    "mc_samples = 500\n",
    "n_signature = n_test = 250\n",
    "results = {}\n",
    "for N in Ns:\n",
    "    out = run_ecc(N, rvs)\n",
    "    results[N] = out\n",
    "\n",
    "with open(f'results.3d/ecc_quantiles_{ecc_norm}.pickle', 'wb') as f:\n",
    "    pickle.dump(results, f)"
   ]
  }
 ],
 "metadata": {
  "environment": {
   "kernel": "python3",
   "name": "common-cpu.m87",
   "type": "gcloud",
   "uri": "gcr.io/deeplearning-platform-release/base-cpu:m87"
  },
  "kernelspec": {
   "display_name": "Python 3 (ipykernel)",
   "language": "python",
   "name": "python3"
  },
  "language_info": {
   "codemirror_mode": {
    "name": "ipython",
    "version": 3
   },
   "file_extension": ".py",
   "mimetype": "text/x-python",
   "name": "python",
   "nbconvert_exporter": "python",
   "pygments_lexer": "ipython3",
   "version": "3.8.10"
  }
 },
 "nbformat": 4,
 "nbformat_minor": 5
}
